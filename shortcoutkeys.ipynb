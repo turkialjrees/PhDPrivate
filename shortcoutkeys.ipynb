{
 "cells": [
  {
   "cell_type": "markdown",
   "metadata": {},
   "source": [
    "## Turki ALjrees \n",
    "<img src=\"images.png\" align=\"right\" alt=\"mdx uni\" title=\"mdx uni\" />"
   ]
  },
  {
   "cell_type": "markdown",
   "metadata": {},
   "source": [
    " <img src=\"nav_logo.svg\" align=\"right\"/> "
   ]
  },
  {
   "cell_type": "markdown",
   "metadata": {},
   "source": [
    "# <font color=Red>Text</font> \n",
    "<font color=Red></font> "
   ]
  },
  {
   "cell_type": "markdown",
   "metadata": {},
   "source": [
    "***"
   ]
  },
  {
   "cell_type": "markdown",
   "metadata": {},
   "source": [
    "[Link to local ](#hello)"
   ]
  },
  {
   "cell_type": "markdown",
   "metadata": {},
   "source": [
    "Shift-Enter   : run cell, select below\n",
    "Ctrl-Enter    : run selected cells\n",
    "Alt-Enter     : run cell and insert below\n",
    "Ctrl-Shift-F  : open the command palette"
   ]
  },
  {
   "cell_type": "markdown",
   "metadata": {},
   "source": [
    "The most important keyboard shortcuts are `Enter`, which enters edit mode, and `Esc`, which enters command mode."
   ]
  },
  {
   "cell_type": "markdown",
   "metadata": {},
   "source": [
    "\n",
    "---"
   ]
  },
  {
   "cell_type": "markdown",
   "metadata": {},
   "source": [
    "### Basic writing and formatting syntax"
   ]
  },
  {
   "cell_type": "markdown",
   "metadata": {},
   "source": [
    "Use `git status` to list all new or modified files that haven't yet been committed.\n"
   ]
  },
  {
   "cell_type": "markdown",
   "metadata": {},
   "source": [
    "\n",
    "\n",
    "> We recommend learning the command mode shortcuts in the following rough order:\n",
    "\n",
    "\n",
    " > 1.Basic navigation: `enter`, `shift-enter`, `up/k`, `down/j`\n",
    "  \n",
    " > 2.Saving the notebook: `s`\n",
    "  \n",
    " > 3.Cell types: `y`, `m`, `1-6`, `t`\n",
    "  \n",
    " > 4.Cell creation: `a`, `b`\n",
    "  \n",
    " > 5.Cell editing: `x`, `c`, `v`, `d`, `z`, `shift+=`\n",
    "  \n",
    " > 6.Kernel operations: `i`, `.`\n",
    "  \n",
    "\n"
   ]
  },
  {
   "cell_type": "markdown",
   "metadata": {},
   "source": [
    "#### Links"
   ]
  },
  {
   "cell_type": "markdown",
   "metadata": {},
   "source": [
    "This site was built using [GitHub Pages](https://pages.github.com/)."
   ]
  },
  {
   "cell_type": "markdown",
   "metadata": {},
   "source": [
    "\n",
    "<a id='#section3'></a>\n",
    "\n"
   ]
  },
  {
   "cell_type": "markdown",
   "metadata": {},
   "source": [
    "You can tell GitHub to ignore (or escape) Markdown formatting by using \\ before the Markdown character."
   ]
  },
  {
   "cell_type": "markdown",
   "metadata": {},
   "source": [
    "### Split the cell"
   ]
  },
  {
   "cell_type": "markdown",
   "metadata": {},
   "source": [
    "ctrl + shift + minus "
   ]
  },
  {
   "cell_type": "markdown",
   "metadata": {},
   "source": [
    "Let's rename \\*our-new-project\\* to \\*our-old-project\\*."
   ]
  },
  {
   "cell_type": "raw",
   "metadata": {},
   "source": [
    "<http://example.com/>\n",
    "\n",
    "Markdown will turn this into:\n",
    "\n",
    "<a href=\"http://example.com/\">http://example.com/</a> \n"
   ]
  },
  {
   "cell_type": "markdown",
   "metadata": {},
   "source": [
    "<a href=\"http://example.com/\">http://example.com/</a>"
   ]
  },
  {
   "cell_type": "markdown",
   "metadata": {},
   "source": [
    "This is a regular paragraph.\n",
    "\n",
    "<table>\n",
    "    <tr>\n",
    "        <td>Foo</td>\n",
    "    </tr>\n",
    "</table>\n",
    "\n",
    "This is another regular paragraph."
   ]
  },
  {
   "cell_type": "markdown",
   "metadata": {},
   "source": [
    "1.  Bird\n",
    "2.  McHale\n",
    "3.  Parish"
   ]
  },
  {
   "cell_type": "markdown",
   "metadata": {},
   "source": [
    "<ol>\n",
    "<li>Bird</li>\n",
    "<li>McHale</li>\n",
    "<li>Parish</li>\n",
    "</ol>"
   ]
  },
  {
   "cell_type": "markdown",
   "metadata": {},
   "source": [
    "<p>This is a normal paragraph:</p>\n",
    "\n",
    "<pre><code>This is a code block.\n",
    "</code></pre>"
   ]
  },
  {
   "cell_type": "markdown",
   "metadata": {},
   "source": [
    "$$e^x=\\sum_{i=0}^\\infty \\frac{1}{i!}x^i$$"
   ]
  },
  {
   "cell_type": "markdown",
   "metadata": {},
   "source": [
    "Example\n",
    "\n",
    "```python\n",
    "print \"Hello World\"\n",
    "```\n",
    "\n",
    "```javascript\n",
    "console.log(\"Hello World\")\n",
    "```"
   ]
  },
  {
   "cell_type": "raw",
   "metadata": {},
   "source": [
    "| This | is   |\n",
    "|------|------|\n",
    "|   a  | table|"
   ]
  },
  {
   "cell_type": "markdown",
   "metadata": {},
   "source": [
    "| This | is   |\n",
    "|------|------|\n",
    "|   a  | table|"
   ]
  },
  {
   "cell_type": "markdown",
   "metadata": {},
   "source": [
    "# hello"
   ]
  },
  {
   "cell_type": "markdown",
   "metadata": {},
   "source": [
    "<video controls src=\"../images/animation.m4v\" />"
   ]
  },
  {
   "cell_type": "markdown",
   "metadata": {},
   "source": [
    "Local Files "
   ]
  },
  {
   "cell_type": "markdown",
   "metadata": {},
   "source": [
    "**Bold** hello [http://localhost:8888/notebooks/Desktop/shared file/Keyboard shortcout keys.ipynb#/]<Presentation>"
   ]
  },
  {
   "cell_type": "markdown",
   "metadata": {},
   "source": [
    "# Tables"
   ]
  },
  {
   "cell_type": "markdown",
   "metadata": {},
   "source": [
    "|Header|Header|Header|Header|\n",
    "|-|-|-|-|\n",
    "|Cell  |Cell  |Cell  | Cell |\n",
    "|Cell  |Cell  |Cell  | Cell |\n",
    "|Cell  |Cell  |Cell  | Cell |\n",
    "|Cell  |Cell  |Cell  | Cell |"
   ]
  },
  {
   "cell_type": "markdown",
   "metadata": {},
   "source": [
    "bbb"
   ]
  },
  {
   "cell_type": "code",
   "execution_count": null,
   "metadata": {},
   "outputs": [],
   "source": []
  },
  {
   "cell_type": "code",
   "execution_count": null,
   "metadata": {},
   "outputs": [],
   "source": []
  },
  {
   "cell_type": "markdown",
   "metadata": {},
   "source": [
    "# here bibtext hiding"
   ]
  },
  {
   "cell_type": "markdown",
   "metadata": {},
   "source": [
    "i would like to SAY THAT <a name=\"ref-1\"/> [(Collier,2012)](#militaryex2).\n",
    "\n",
    "we are good <a name=\"ref-2\"/>[(Kepps, 2002)](#cite-calicoww2:2)."
   ]
  },
  {
   "cell_type": "markdown",
   "metadata": {},
   "source": [
    "References\n",
    "\n",
    "[1](#ref-1)  Kepps, Milo . 2002. Rebuilding Calico After Japanese Occupation.\n",
    "\n",
    "[2](#ref-2) Kepps, Milo . 2002. Rebuilding Calico After Japanese Occupation."
   ]
  },
  {
   "cell_type": "markdown",
   "metadata": {},
   "source": [
    "<!--bibtex\n",
    "\n",
    "@book{wellfarecut,\n",
    "    title = {Our Greatest Threat: The Rise of Anti-Wellfare Politics in Calico in the 21st Century},\n",
    "    author = {Jacob, Bernadette},\n",
    "    year = {2010},\n",
    "    publisher = {Jupyter University Press}\n",
    "}\n",
    "\n",
    "@article{militaryex2,\n",
    "    title = {Rethinking Calican Military Expansion for the New Century},\n",
    "    author = {Collier, Brian F.},\n",
    "    journal = {Modern Politics},\n",
    "    volume = {60},\n",
    "    issue = {25},\n",
    "    pages = {35 - 70},\n",
    "    year = {2012} \n",
    "}\n",
    "\n",
    "@article{militaryex1,\n",
    "    title = {Conservative Majority Passes Budget to Grow Military},\n",
    "    author = {Lane, Lois},\n",
    "    journal = {The Daily Calican},\n",
    "    month = {October 19th, 2011},\n",
    "    pages = {15 - 17},\n",
    "    year = {2011}\n",
    "}\n",
    "\n",
    "@article{oildrill,\n",
    "    title = {Oil Drilling Off the Coast of Jupyter Approved for Early Next Year},\n",
    "    author = {Marks, Meghan L.},\n",
    "    journal = {The Python Gazette},\n",
    "    month = {December 5th, 2012},\n",
    "    pages = {8 - 9},\n",
    "    year = {2012}\n",
    "}\n",
    "\n",
    "@article{rieseinterview,\n",
    "    title = {Interview with Up and Coming Freshman Senator, Alec Riese of Python},\n",
    "    author = {Wilmington, Oliver},\n",
    "    journal = {The Jupyter Times},\n",
    "    month = {November 24th, 2012},\n",
    "    pages = {4 - 7},\n",
    "    year = {2012}\n",
    "}\n",
    "\n",
    "@book{calicoww2:1,\n",
    "    title = {Calico and WWII: Untold History},\n",
    "    author = {French, Viola},\n",
    "    year = {1997},\n",
    "    publisher = {Calicia City Free Press}\n",
    "}\n",
    "\n",
    "@book{calicoww2:2,\n",
    "    title = {Rebuilding Calico After Japanese Occupation},\n",
    "    author = {Kepps, Milo },\n",
    "    year = {2002},\n",
    "    publisher = {Python Books}\n",
    "}\n",
    "-->"
   ]
  },
  {
   "cell_type": "markdown",
   "metadata": {},
   "source": [
    "<cite data-cite=\"granger2013\">(Granger, 2013)</cite>"
   ]
  },
  {
   "cell_type": "code",
   "execution_count": null,
   "metadata": {},
   "outputs": [],
   "source": []
  }
 ],
 "metadata": {
  "kernelspec": {
   "display_name": "Python 3",
   "language": "python",
   "name": "python3"
  },
  "language_info": {
   "codemirror_mode": {
    "name": "ipython",
    "version": 3
   },
   "file_extension": ".py",
   "mimetype": "text/x-python",
   "name": "python",
   "nbconvert_exporter": "python",
   "pygments_lexer": "ipython3",
   "version": "3.6.5"
  }
 },
 "nbformat": 4,
 "nbformat_minor": 2
}
